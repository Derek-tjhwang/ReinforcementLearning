{
 "cells": [
  {
   "cell_type": "markdown",
   "metadata": {},
   "source": [
    "# Lecture 5. Q-Learning in non-deterministic world"
   ]
  },
  {
   "cell_type": "markdown",
   "metadata": {},
   "source": [
    "Stochastic(Nondeterministic) = Action을 했을때 항상 똑같은 State와 Reward가 오는것이 아님.\n",
    "Deterministic : 특정 State에서 어떤 action을 했을때 항상 같은 State와 Reward가 반환 됨.\n",
    "\n",
    "Stochastic (non-deterministic) world\n",
    "- solution?  \n",
    "    Listen to Q(s') (just a little bit)  \n",
    "    Update Q(s) little bit (learning rate)  \n",
    "- Like our life mentors  \n",
    "    Don't just listen and follow one mentor  \n",
    "    Need to listen from many mentors  \n",
    "\n",
    "Stochastic하기 때문에 Q'의 값을 줄여서 반영함(little bit 의견) using alpha\n",
    "Q^(hat)(s, a) <- (1 - alpha)Q^(hat)(s, a) + alpha[r + gamma\\*max\\*Q^(hat)(s', a')]\n"
   ]
  },
  {
   "cell_type": "code",
   "execution_count": 1,
   "metadata": {},
   "outputs": [],
   "source": [
    "import gym\n",
    "import numpy as np\n",
    "import matplotlib.pyplot as plt\n",
    "from gym.envs.registration import register\n",
    "#import readchar\n",
    "\n",
    "LEFT = 0\n",
    "DOWN = 1\n",
    "RIGHT = 2\n",
    "UP = 3\n",
    "\n",
    "arrow_keys = {\n",
    "    '\\x1b[A': UP,\n",
    "    '\\x1b[B': DOWN,\n",
    "    '\\x1b[C': RIGHT,\n",
    "    '\\x1b[D': LEFT\n",
    "}\n",
    "\n",
    "register(\n",
    "    id='FrozenLake-v3',\n",
    "    entry_point='gym.envs.toy_text:FrozenLakeEnv',\n",
    "    kwargs={'map_name': '4x4', \n",
    "            'is_slippery': False}\n",
    ")"
   ]
  },
  {
   "cell_type": "code",
   "execution_count": 2,
   "metadata": {},
   "outputs": [
    {
     "name": "stderr",
     "output_type": "stream",
     "text": [
      "/Users/taejunhwang/.pyenv/versions/anaconda3-5.1.0/lib/python3.6/importlib/_bootstrap.py:219: RuntimeWarning: numpy.dtype size changed, may indicate binary incompatibility. Expected 96, got 88\n",
      "  return f(*args, **kwds)\n"
     ]
    }
   ],
   "source": [
    "env = gym.make('FrozenLake-v0')\n",
    "#env.render()"
   ]
  },
  {
   "cell_type": "code",
   "execution_count": null,
   "metadata": {},
   "outputs": [],
   "source": []
  },
  {
   "cell_type": "code",
   "execution_count": 3,
   "metadata": {},
   "outputs": [],
   "source": [
    "\n",
    "Q = np.zeros([env.observation_space.n, env.action_space.n])\n",
    "\n",
    "learning_rate = 0.85\n",
    "dis = 0.99\n",
    "num_episodes = 2000\n",
    "\n",
    "rList = []\n",
    "\n",
    "for i in range(num_episodes):\n",
    "    state = env.reset()\n",
    "    rAll = 0\n",
    "    done = False\n",
    "    \n",
    "    while not done:\n",
    "        action = np.argmax(Q[state, :] + np.random.randn(1, env.action_space.n) / (i + 1))\n",
    "        \n",
    "        new_state, reward, done, _ = env.step(action)\n",
    "        \n",
    "        Q[state, action] = (1-learning_rate)*Q[state, action] + learning_rate*(reward + dis * np.max(Q[new_state, :]))\n",
    "        \n",
    "        rAll += reward\n",
    "        state = new_state\n",
    "        \n",
    "    rList.append(rAll)"
   ]
  },
  {
   "cell_type": "code",
   "execution_count": 4,
   "metadata": {},
   "outputs": [
    {
     "name": "stdout",
     "output_type": "stream",
     "text": [
      "Success rate: 0.411\n",
      "Final Q-Table Values\n",
      "[[5.87511506e-03 4.43065339e-03 6.89995044e-01 6.93088976e-03]\n",
      " [3.68441436e-03 5.71698771e-04 2.08711727e-03 5.22960788e-01]\n",
      " [4.38408472e-03 2.60266294e-03 0.00000000e+00 3.66627803e-01]\n",
      " [3.44163010e-03 2.63892393e-03 8.52106369e-04 1.73361112e-01]\n",
      " [7.63282176e-01 8.28018831e-04 1.97005628e-03 0.00000000e+00]\n",
      " [0.00000000e+00 0.00000000e+00 0.00000000e+00 0.00000000e+00]\n",
      " [2.88872716e-06 7.28775077e-06 2.30632434e-01 5.00171795e-06]\n",
      " [0.00000000e+00 0.00000000e+00 0.00000000e+00 0.00000000e+00]\n",
      " [0.00000000e+00 3.93546449e-04 5.25147039e-04 9.12163093e-01]\n",
      " [3.68008243e-04 8.90305816e-01 6.23772704e-04 4.21277574e-04]\n",
      " [5.14618027e-01 7.43308120e-06 5.58285242e-04 1.09121296e-04]\n",
      " [0.00000000e+00 0.00000000e+00 0.00000000e+00 0.00000000e+00]\n",
      " [0.00000000e+00 0.00000000e+00 0.00000000e+00 0.00000000e+00]\n",
      " [8.98958029e-06 3.36210303e-04 9.08837980e-01 2.07309124e-03]\n",
      " [0.00000000e+00 0.00000000e+00 9.29316569e-01 0.00000000e+00]\n",
      " [0.00000000e+00 0.00000000e+00 0.00000000e+00 0.00000000e+00]]\n"
     ]
    },
    {
     "data": {
      "image/png": "[encoded data removed]",
      "text/plain": [
       "<matplotlib.figure.Figure at 0x1a0873c978>"
      ]
     },
     "metadata": {},
     "output_type": "display_data"
    }
   ],
   "source": [
    "import matplotlib.pyplot as plt\n",
    "\n",
    "print(\"Success rate: \" + str(sum(rList)/num_episodes))\n",
    "print(\"Final Q-Table Values\")\n",
    "print(Q)\n",
    "plt.bar(range(len(rList)), rList, color=\"blue\")\n",
    "plt.show()"
   ]
  },
  {
   "cell_type": "markdown",
   "metadata": {},
   "source": [
    "Stochastic한 환경에서는 Learning Rate가 없이 할 경우 Q-Function을 신뢰하고 Update할 수 없게된다.\n",
    "- action을 취했지만 결과가 다르기 때문, 결과가 다르다는 것은 원하는 기대값을 받지 못한다는 것이고 해당 값으로 Update하면 안된다.\n",
    "\n",
    "따라서 Learning Rate를 적용하여 Q-Function에 의해 Update되는 \n"
   ]
  },
  {
   "cell_type": "code",
   "execution_count": null,
   "metadata": {},
   "outputs": [],
   "source": []
  },
  {
   "cell_type": "code",
   "execution_count": null,
   "metadata": {},
   "outputs": [],
   "source": []
  }
 ],
 "metadata": {
  "kernelspec": {
   "display_name": "Python 3",
   "language": "python",
   "name": "python3"
  },
  "language_info": {
   "codemirror_mode": {
    "name": "ipython",
    "version": 3
   },
   "file_extension": ".py",
   "mimetype": "text/x-python",
   "name": "python",
   "nbconvert_exporter": "python",
   "pygments_lexer": "ipython3",
   "version": "3.6.4"
  }
 },
 "nbformat": 4,
 "nbformat_minor": 2
}
