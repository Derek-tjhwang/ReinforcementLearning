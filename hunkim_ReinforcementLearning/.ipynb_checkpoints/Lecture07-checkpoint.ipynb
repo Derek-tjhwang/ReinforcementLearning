{
 "cells": [
  {
   "cell_type": "markdown",
   "metadata": {},
   "source": [
    "# Lecture 7. DQN"
   ]
  },
  {
   "cell_type": "markdown",
   "metadata": {},
   "source": [
    "뉴럴넷을 쓰는 아이디어는 Converge 하지 못 했기 때문에, 주목 받지 못 했었다.\n",
    "\n",
    "하지만, DeepMind에서 두 가지 문제를 해결했다.\n",
    "- Correlations between samples \n",
    "- Non-stationary targets : 타겟이 흔들린다는 의미.\n",
    "\n",
    "\n",
    "__Correlations between samples__\n",
    "받아오는 샘플들이 연관성이 있다는 문제.\n",
    "\n",
    "__Non-stationary targets__  \n",
    "타겟이 움직인다.  \n",
    "Y^(hat) = Q pred과 Y target을 갖게 만들려고 함.   \n",
    "근데 이때 사용되는 theta가 Q pred과 Y target에 동일한 값이 사용됨.  \n",
    "따라서 theta를 업데이트를 하게되면 Q pred이 변하고 이때 Y target도 움직이게 된다.  \n"
   ]
  },
  {
   "cell_type": "markdown",
   "metadata": {},
   "source": [
    "## DQN's three solutions\n",
    "\n",
    "__Go deep__  \n",
    "깊은 네트워크를 사용한다.  \n",
    "Layer를 늘릴수록 학습이 잘 될 것이다.  \n",
    "\n",
    "__Capture and replay__  \n",
    "- Correlations between samples\n",
    "중요한 솔루션, correlation을 해결하기 위해서 experience replay를 하게됨.  \n",
    "action에 따른 state를 바로 학습하지 말고 버퍼에 저장을 함. -> Store transition(pi_t, a_t, r_t, pi_t+1) in *D*  \n",
    "시간이 지난 후에 버퍼에서 랜덤하게 가져와서 학습을 함. -> Sample random minibatch of transitions (pi_j, a_j, r_j, pi_j+1) from *D*  \n",
    "간단한 알고리즘 이지만 학습에 매우 효과적이다.\n",
    "\n",
    "__Separate networks: create a target network__  \n",
    "- Non-stationary targets\n",
    "네트워크를 하나 더 만들어서 theta와 theta_bar를 만들어서 사용함.  \n",
    "pred하는 네트워크와 target에서 사용하는 네트워크를 다르게 사용함.  \n",
    "그리고 Every C steps에 Q^(hat)에 Q를 복사함."
   ]
  },
  {
   "cell_type": "markdown",
   "metadata": {},
   "source": [
    "Algorithm 1: deep Q-learning with experience replay.\n",
    "Initialize replay memory *D* to capacity *N*  \n",
    "Initialize action-value function *Q* with random weights theta  \n",
    "Initialize target action-value function *Q*^(hat) with weights theta^- = theta  \n",
    "For episode = 1, *M* do  \n",
    "    Initialize sequence s_1 = {x_1} and preprocessed sequence pi_q = pi(s_1)  \n",
    "    For t = 1, T do  \n",
    "        With probability epsilon select a random action a_t  \n",
    "        otherwise select a_t = argmax_aQ(pi(s_t),a; theta)\n",
    "        Execute action a_t in emulator and observe reward r_t and image x_t+1  \n",
    "        Set s_t+1 = s_t, a_t, x_t+1 and preprocess pi_t+1 = pi(s_t+1)  \n",
    "        Store transition (pi_t, a_t, r_t, pi_t+1) in *D*  \n",
    "        Sample random minibatch of transitions (pi_j, a_j, r_j, pi_j+1) from *D*  \n",
    "        \n",
    "        Set y_j = r_j                                       if episode terminates at step j+1\n",
    "                  r_j + gamma\\*max_a'Q^(hat)(pi_j+1, a'; theta^-)         otherwise\n",
    "                  \n",
    "        Perform a gradient descent step on (y_j - Q(pi_j, a_j; theta))^2 with respect to the network parameters theta\n",
    "        Every C steps reset Q^(hat) = Q\n",
    "    End For\n",
    "End For"
   ]
  },
  {
   "cell_type": "markdown",
   "metadata": {},
   "source": []
  },
  {
   "cell_type": "code",
   "execution_count": 3,
   "metadata": {},
   "outputs": [],
   "source": [
    "class DQN:\n",
    "    def __init__(self, session, input_size, output_size, name=\"main\"):\n",
    "        self.session = session\n",
    "        self.input_size = input_size\n",
    "        self.output_size = output_size\n",
    "        self.net_name = name\n",
    "        \n",
    "        self._build_network()\n",
    "        \n",
    "    def _build_network(self, h_size=10, l_rate=1e-1):\n",
    "        with tf.variable_scope(self.net_name):\n",
    "            self._X = tf.placeholder(\n",
    "                tf.float32, [None, self.input_size], name=\"input_x\")\n",
    "            \n",
    "            # First layer of weights\n",
    "            W1 = tf.get_variable(\"W1\", shape=[self.input_size, h_size],\n",
    "                                 initializer=tf.contrib.layers.xavier_initializer())\n",
    "            layer1 = tf.nn.tanh(tf.matmul(self._X, W1))\n",
    "            \n",
    "            # Second layer of weights\n",
    "            W2 = tf.get_variable(\"W2\", shape=[h_size, self.output_size],\n",
    "                                 initializer=tf.contrib.layers.xavier_initializer())\n",
    "            \n",
    "            # Q prediction\n",
    "            self._Qpred = tf.matmul(layer1, W2)\n",
    "        \n",
    "        # We need to define the parts of the network needed for learning a\n",
    "        # policy\n",
    "        self._Y = tf.placeholder(\n",
    "            shape=[None, self.output_size], dtype=tf.float32)\n",
    "        \n",
    "        # Loss function\n",
    "        self._loss = tf.reduce_mean(tf.square(self._Y - self._Qpred))\n",
    "        \n",
    "        # Learning\n",
    "        self._train = tf.train.AdamOptimizer(\n",
    "            learning_rate=l_rate).minimize(self._loss)\n",
    "        \n",
    "    def predict(self, state):\n",
    "        # 상태를 받아서 결과를 반환해 주는 함수\n",
    "        X = np.reshape(state, [1, self.input_size])\n",
    "        return self.session.run(self._Qpre, feed_dict={self._X: x})\n",
    "    \n",
    "    def update(self, x_stack, y_stack):\n",
    "        # \n",
    "        return self.session.run([self._loss, self._train], feed_dict={\n",
    "            self._X: x_stack, self._Y: y_stack})\n",
    "        \n",
    "        "
   ]
  },
  {
   "cell_type": "markdown",
   "metadata": {},
   "source": [
    "## 2. Replay memory"
   ]
  },
  {
   "cell_type": "code",
   "execution_count": 5,
   "metadata": {},
   "outputs": [
    {
     "ename": "ModuleNotFoundError",
     "evalue": "No module named 'collections.deque'",
     "output_type": "error",
     "traceback": [
      "\u001b[0;31m---------------------------------------------------------------------------\u001b[0m",
      "\u001b[0;31mModuleNotFoundError\u001b[0m                       Traceback (most recent call last)",
      "\u001b[0;32m<ipython-input-5-b50d1ead3b4a>\u001b[0m in \u001b[0;36m<module>\u001b[0;34m()\u001b[0m\n\u001b[0;32m----> 1\u001b[0;31m \u001b[0;32mimport\u001b[0m \u001b[0mcollections\u001b[0m\u001b[0;34m.\u001b[0m\u001b[0mdeque\u001b[0m\u001b[0;34m\u001b[0m\u001b[0m\n\u001b[0m\u001b[1;32m      2\u001b[0m \u001b[0;34m\u001b[0m\u001b[0m\n\u001b[1;32m      3\u001b[0m \u001b[0;31m# Store the previous observations in replay memory\u001b[0m\u001b[0;34m\u001b[0m\u001b[0;34m\u001b[0m\u001b[0m\n\u001b[1;32m      4\u001b[0m \u001b[0mreplay_buffer\u001b[0m \u001b[0;34m=\u001b[0m \u001b[0mdeque\u001b[0m\u001b[0;34m(\u001b[0m\u001b[0;34m)\u001b[0m\u001b[0;34m\u001b[0m\u001b[0m\n\u001b[1;32m      5\u001b[0m \u001b[0;34m\u001b[0m\u001b[0m\n",
      "\u001b[0;31mModuleNotFoundError\u001b[0m: No module named 'collections.deque'"
     ]
    }
   ],
   "source": [
    "\n",
    "# Store the previous observations in replay memory\n",
    "replay_buffer = deque()\n",
    "\n",
    "# Save the experience to our buffer\n",
    "replay_buffer.append((state, action, reward, next_state, done))\n",
    "if len(replay_buffer) > REPLAY_MEMORY:\n",
    "    replay_buffer.popleft()\n",
    "    \n",
    "if episode % 10 == 1: # train every 10 episodes\n",
    "    # Get a random batch of experiences.\n",
    "    for _ in range(50):\n",
    "        # Minibatch works better\n",
    "        minibatch = random.sample(replay_buffer, 10)\n",
    "        loss, _ = simple_replay_train(mainDQN, minibatch)"
   ]
  },
  {
   "cell_type": "markdown",
   "metadata": {},
   "source": [
    "## 3. Train from replay memory"
   ]
  },
  {
   "cell_type": "code",
   "execution_count": 1,
   "metadata": {},
   "outputs": [],
   "source": [
    "def simple_replay_train(DQN, train_batch):\n",
    "    x_stack = np.empty(0).reshape(0, DQN.input_size)\n",
    "    y_stack = np.empty(0).reshape(0, DQN.output_size)\n",
    "    \n",
    "    # Get stored information from the buffer\n",
    "    for state, action, reward, next_state, done in train_batch:\n",
    "        Q = DQN.predict(state)\n",
    "        \n",
    "        # terminal?\n",
    "        if done:\n",
    "            Q[0, action] = reward\n",
    "        else:\n",
    "            # Obtain the Q' values by feeding the new state through our network\n",
    "            Q[0, action] = reward + dis * np.max(DQN.predict(next_state))\n",
    "            \n",
    "        y_stack = np.vstack([y_stack, Q])\n",
    "        x_stack = np.vstack([x_stack, state])\n",
    "        \n",
    "    # Train our network using target and predicted Q values on each episode\n",
    "    return DQN.update(x_stack, y_stack)"
   ]
  },
  {
   "cell_type": "markdown",
   "metadata": {},
   "source": [
    "## Recap\n",
    "\n",
    "1. Net-Build-init  \n",
    "2. Env  \n",
    "    a = ?  \n",
    "    env.step(a)  \n",
    "    학습을 시키지 않고 버퍼에 저장을 함.  \n",
    "    random.sample() <- minibatch로 학습을 시킴.  "
   ]
  },
  {
   "cell_type": "code",
   "execution_count": 7,
   "metadata": {},
   "outputs": [],
   "source": [
    "import numpy as np\n",
    "import tensorflow as tf\n",
    "import random\n",
    "from collections import deque\n",
    "\n",
    "import gym\n",
    "env = gym.make('CartPole-v0')\n",
    "\n",
    "# Constants defining our neural network\n",
    "input_size = env.observation_space.shape[0]\n",
    "output_size = env.action_space.n\n",
    "\n",
    "dis = 0.9\n",
    "REPLAY_MEMORY = 50000"
   ]
  },
  {
   "cell_type": "markdown",
   "metadata": {},
   "source": [
    "# Code 4. bot play"
   ]
  },
  {
   "cell_type": "code",
   "execution_count": null,
   "metadata": {},
   "outputs": [],
   "source": [
    "def bot_play(mainDQN):\n",
    "    # See our trained network in action\n",
    "    s = env.reset()\n",
    "    reward_sum = 0\n",
    "    while True:\n",
    "        env.render()\n",
    "        a = np.argmax(mainDQN.predict(s))\n",
    "        s, reward, done, _ = env.step(a)\n",
    "        reward_sum += reward\n",
    "        if done:\n",
    "            print(\"Total score: {}\".format(reward_sum))\n",
    "            break"
   ]
  },
  {
   "cell_type": "code",
   "execution_count": 2,
   "metadata": {},
   "outputs": [],
   "source": [
    "def main():\n",
    "    max_episodes = 5000\n",
    "    \n",
    "    # store the previous observations in replay memory\n",
    "    replay_buffer = deque()\n",
    "    \n",
    "    with tf.Session() as sess:\n",
    "        mainDQN = DQN(sess, input_size, output_size)\n",
    "        tf.global_variables_initializer().run()\n",
    "    \n",
    "        for episode in range(max_episodes):\n",
    "            e = 1/ ((episode / 10) + 1)\n",
    "            done = False\n",
    "            step_count = 0\n",
    "            \n",
    "            state = env.reset()\n",
    "            \n",
    "            while not done:\n",
    "                if np.random.rand(1) < e:\n",
    "                    action = env.action_space.sample()\n",
    "                else:\n",
    "                    # Choose an action by greedily from the Q-network\n",
    "                    action = np.argmax(mainDQN.predict(state))\n",
    "                    \n",
    "                # Get new state and reward from environment\n",
    "                next_state, reward, done, _  = env.step(action)\n",
    "                if done: # big penalty\n",
    "                    reward = -100\n",
    "                    \n",
    "                # Save the experience to our buffer\n",
    "                replay_buffer.append((state, action, reward, next_state, done))\n",
    "                if len(replay_buffer) > REPLAY_MEMORY:\n",
    "                    replay_buffer.popleft()\n",
    "                \n",
    "                state = next_state\n",
    "                step_count += 1\n",
    "                if step_count > 10000:\n",
    "                    break\n",
    "                    \n",
    "            print(\"Episode: {} steps: {}\".format(episode, step_count))\n",
    "            if step_count > 10000:\n",
    "                pass\n",
    "                # break\n",
    "                \n",
    "            if episode % 10 == 1: # train every 10 episodes\n",
    "                # Get a random batch of experiences.\n",
    "                for _ in range(50):\n",
    "                    # Minibatch works better\n",
    "                    minibatch = random.sample(replay_buffer, 10)\n",
    "                    loss, _ = simple_replay_train(mainDQN, minibatch)\n",
    "                print(\"Lostt: \", loss)\n",
    "        boy_play(mainDQN)"
   ]
  },
  {
   "cell_type": "code",
   "execution_count": null,
   "metadata": {},
   "outputs": [],
   "source": []
  },
  {
   "cell_type": "code",
   "execution_count": null,
   "metadata": {},
   "outputs": [],
   "source": []
  },
  {
   "cell_type": "code",
   "execution_count": null,
   "metadata": {},
   "outputs": [],
   "source": []
  },
  {
   "cell_type": "code",
   "execution_count": null,
   "metadata": {},
   "outputs": [],
   "source": []
  },
  {
   "cell_type": "code",
   "execution_count": null,
   "metadata": {},
   "outputs": [],
   "source": []
  },
  {
   "cell_type": "code",
   "execution_count": null,
   "metadata": {},
   "outputs": [],
   "source": []
  },
  {
   "cell_type": "code",
   "execution_count": null,
   "metadata": {},
   "outputs": [],
   "source": []
  },
  {
   "cell_type": "code",
   "execution_count": null,
   "metadata": {},
   "outputs": [],
   "source": []
  },
  {
   "cell_type": "code",
   "execution_count": null,
   "metadata": {},
   "outputs": [],
   "source": []
  }
 ],
 "metadata": {
  "kernelspec": {
   "display_name": "Python 3",
   "language": "python",
   "name": "python3"
  },
  "language_info": {
   "codemirror_mode": {
    "name": "ipython",
    "version": 3
   },
   "file_extension": ".py",
   "mimetype": "text/x-python",
   "name": "python",
   "nbconvert_exporter": "python",
   "pygments_lexer": "ipython3",
   "version": "3.6.4"
  }
 },
 "nbformat": 4,
 "nbformat_minor": 2
}
