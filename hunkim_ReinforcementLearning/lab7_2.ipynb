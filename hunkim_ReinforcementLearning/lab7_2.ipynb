{
 "cells": [
  {
   "cell_type": "code",
   "execution_count": 2,
   "metadata": {},
   "outputs": [
    {
     "name": "stderr",
     "output_type": "stream",
     "text": [
      "/Users/bychkim/.pyenv/versions/anaconda3-5.1.0/lib/python3.6/site-packages/h5py/__init__.py:36: FutureWarning: Conversion of the second argument of issubdtype from `float` to `np.floating` is deprecated. In future, it will be treated as `np.float64 == np.dtype(float).type`.\n",
      "  from ._conv import register_converters as _register_converters\n"
     ]
    },
    {
     "ename": "ModuleNotFoundError",
     "evalue": "No module named 'dqn'",
     "output_type": "error",
     "traceback": [
      "\u001b[0;31m---------------------------------------------------------------------------\u001b[0m",
      "\u001b[0;31mModuleNotFoundError\u001b[0m                       Traceback (most recent call last)",
      "\u001b[0;32m<ipython-input-2-91cef6bbc544>\u001b[0m in \u001b[0;36m<module>\u001b[0;34m()\u001b[0m\n\u001b[1;32m      2\u001b[0m \u001b[0;32mimport\u001b[0m \u001b[0mtensorflow\u001b[0m \u001b[0;32mas\u001b[0m \u001b[0mtf\u001b[0m\u001b[0;34m\u001b[0m\u001b[0m\n\u001b[1;32m      3\u001b[0m \u001b[0;32mimport\u001b[0m \u001b[0mrandom\u001b[0m\u001b[0;34m\u001b[0m\u001b[0m\n\u001b[0;32m----> 4\u001b[0;31m \u001b[0;32mimport\u001b[0m \u001b[0mdqn\u001b[0m\u001b[0;34m\u001b[0m\u001b[0m\n\u001b[0m",
      "\u001b[0;31mModuleNotFoundError\u001b[0m: No module named 'dqn'"
     ]
    }
   ],
   "source": [
    "import numpy as np\n",
    "import tensorflow as tf\n",
    "import random\n",
    "import dqn"
   ]
  },
  {
   "cell_type": "code",
   "execution_count": 3,
   "metadata": {},
   "outputs": [],
   "source": [
    "from collections import deque\n",
    "import gym\n",
    "env = gym.make('CartPole-v0')"
   ]
  },
  {
   "cell_type": "code",
   "execution_count": 4,
   "metadata": {},
   "outputs": [],
   "source": [
    "# Constants defining our neural network\n",
    "# Input and output siza based on the Env\n",
    "input_size = env.observation_space.shape[0]\n",
    "output_size = env.action_space.n\n",
    "\n",
    "dis = 0.9\n",
    "REPLAY_MEMORY = 50000"
   ]
  },
  {
   "cell_type": "code",
   "execution_count": null,
   "metadata": {},
   "outputs": [],
   "source": []
  },
  {
   "cell_type": "code",
   "execution_count": 5,
   "metadata": {},
   "outputs": [],
   "source": [
    "class DQN:\n",
    "    def __init__(self, session, input_size, output_size, name=\"main\"):\n",
    "        self.session = session\n",
    "        self.input_size = input_size\n",
    "        self.output_size = output_size\n",
    "        self.net_name = name\n",
    "        \n",
    "        self._build_network()\n",
    "    \n",
    "    def _build_network(self, h_size=10, l_rate=1e-1):\n",
    "        with tf.variable_scope(self.net_name):\n",
    "            self._X = tf.placeholder(\n",
    "                tf.float32, [None, self.input_size], name=\"input_x\") # None에 입력을 해서 n개까지 입력 받을 수 있도록\n",
    "            \n",
    "            # First layer of weights\n",
    "            W1 = tf.get_variable(\"W1\", shape=[self.input_size, h_size],\n",
    "                                 initializer=tf.contrib.layers.xavier_initializer())\n",
    "            layer1 = tf.nn.tanh(tf.matmul(self._X, W1))\n",
    "            \n",
    "            # Second layer of weights\n",
    "            W2 = tf.get_variable(\"W2\", shape=[h_size, self.output_size],\n",
    "                                 initializer=tf.contrib.layers.xavier_initializer())\n",
    "            \n",
    "            # Q prediction\n",
    "            self._Qperd = tf.matmul(layer1, W2)\n",
    "            \n",
    "        # We need to define the parts of the network needed for learning a policy\n",
    "        self._Y = tf.placeholder(\n",
    "            shape=[None, self.output_size], dtype=tf.float32)\n",
    "        \n",
    "        # Loss function\n",
    "        self._loss = tf.reduce_mean(tf.square(self._Y - self._Qpred))\n",
    "        \n",
    "        # Learning\n",
    "        self._train = tf.train.AdamOptimizer(\n",
    "            learning_rate=l_rate).minimize(self._loss)\n",
    "        \n",
    "    def predict(self, state):\n",
    "        x = np.reshape(state, [1, self.input_size])\n",
    "        return self.sesstion.run(self._Qpred, feed_dict={self._X: x})\n",
    "    \n",
    "    # network를 직접 학습시키지 않고, 따로 변수를 지정하여 학습을 시키는데 도움을 주는 함수\n",
    "    def update(self, x_stack, y_stack):\n",
    "        return self.session.run([self._loss, self._train], feed_dict={self._X: x_stack, self._Y: y_stack})"
   ]
  },
  {
   "cell_type": "code",
   "execution_count": 6,
   "metadata": {},
   "outputs": [],
   "source": [
    "def replay_train(mainDQN, targetDQN, train_batch):\n",
    "    x_stack = np.empty(0).reshape(0, input_size)\n",
    "    y_stack = np.empty(0).reshape(0, output_size)\n",
    "    \n",
    "    # Get stored information from the buffer\n",
    "    for state, action, reward, next_state, done in train_batch:\n",
    "        Q = mainDQN.predict(state)\n",
    "        \n",
    "        # terminal?\n",
    "        if done:\n",
    "            Q[0, action] = reward\n",
    "        else:\n",
    "            # Get target from target DQN (Q`)\n",
    "            # Obtain the Q` values by feeding the new state through our network\n",
    "            Q[0, action] = reward + dis * np.max(DQN.predict(next_state))\n",
    "            \n",
    "        y_stack = np.vstack([y_stack, Q]) # vertical stack\n",
    "        x_stack = np.vstack([x_stack, state])\n",
    "        \n",
    "    # Train our network using target and predicted Q values on each episode\n",
    "    return mainDQN.update(x_stack, y_stack)"
   ]
  },
  {
   "cell_type": "code",
   "execution_count": 7,
   "metadata": {},
   "outputs": [],
   "source": [
    "def get_copy_var_ops(*, dest_scope_name=\"target\", src_scope_name=\"main\"):\n",
    "    # Copy variables src_scope to dest_scope\n",
    "    op_holder = []\n",
    "    \n",
    "    src_vars = tf.get_collection(\n",
    "        tf.GraphKeys.TRANINABLE_VARIABLES, scope=src_scope_name)\n",
    "    dest_vars = tf.get_collection(\n",
    "        tf.GraphKeys.TRANINABLE_VARIABLES, scope=dest_scope_name)\n",
    "    \n",
    "    for src_var, dest_var in zip(src_vars, dest_vars):\n",
    "        op_holder.append(dest_var.assign(src_var.value())) # tensorflow에 있는 assign을 사용 ; (tensor).assign\n",
    "        \n",
    "    return op_holder"
   ]
  },
  {
   "cell_type": "code",
   "execution_count": 8,
   "metadata": {},
   "outputs": [],
   "source": [
    "def bot_play(mainDQN):\n",
    "    # See our trained network in action\n",
    "    s = env.reset()\n",
    "    reward_sum = 0\n",
    "    while True:\n",
    "        env.render()\n",
    "        a = np.argmax(mainDQN.predict(s))\n",
    "        s, reward, done, _ = env.step(a)\n",
    "        reward_sum += reward\n",
    "        if done:\n",
    "            print(\"Total score: {}\".format(reward_sum))\n",
    "            break"
   ]
  },
  {
   "cell_type": "code",
   "execution_count": 9,
   "metadata": {},
   "outputs": [
    {
     "ename": "NameError",
     "evalue": "name 'dqn' is not defined",
     "output_type": "error",
     "traceback": [
      "\u001b[0;31m---------------------------------------------------------------------------\u001b[0m",
      "\u001b[0;31mNameError\u001b[0m                                 Traceback (most recent call last)",
      "\u001b[0;32m<ipython-input-9-a00c34857010>\u001b[0m in \u001b[0;36m<module>\u001b[0;34m()\u001b[0m\n\u001b[1;32m     72\u001b[0m \u001b[0;34m\u001b[0m\u001b[0m\n\u001b[1;32m     73\u001b[0m \u001b[0;32mif\u001b[0m \u001b[0m__name__\u001b[0m \u001b[0;34m==\u001b[0m \u001b[0;34m\"__main__\"\u001b[0m\u001b[0;34m:\u001b[0m\u001b[0;34m\u001b[0m\u001b[0m\n\u001b[0;32m---> 74\u001b[0;31m     \u001b[0mmain\u001b[0m\u001b[0;34m(\u001b[0m\u001b[0;34m)\u001b[0m\u001b[0;34m\u001b[0m\u001b[0m\n\u001b[0m",
      "\u001b[0;32m<ipython-input-9-a00c34857010>\u001b[0m in \u001b[0;36mmain\u001b[0;34m()\u001b[0m\n\u001b[1;32m      6\u001b[0m \u001b[0;34m\u001b[0m\u001b[0m\n\u001b[1;32m      7\u001b[0m     \u001b[0;32mwith\u001b[0m \u001b[0mtf\u001b[0m\u001b[0;34m.\u001b[0m\u001b[0mSession\u001b[0m\u001b[0;34m(\u001b[0m\u001b[0;34m)\u001b[0m \u001b[0;32mas\u001b[0m \u001b[0msess\u001b[0m\u001b[0;34m:\u001b[0m\u001b[0;34m\u001b[0m\u001b[0m\n\u001b[0;32m----> 8\u001b[0;31m         \u001b[0mmainDQN\u001b[0m \u001b[0;34m=\u001b[0m \u001b[0mdqn\u001b[0m\u001b[0;34m.\u001b[0m\u001b[0mDQN\u001b[0m\u001b[0;34m(\u001b[0m\u001b[0msess\u001b[0m\u001b[0;34m,\u001b[0m \u001b[0minput_size\u001b[0m\u001b[0;34m,\u001b[0m \u001b[0moutput_size\u001b[0m\u001b[0;34m,\u001b[0m \u001b[0mname\u001b[0m\u001b[0;34m=\u001b[0m\u001b[0;34m\"main\"\u001b[0m\u001b[0;34m)\u001b[0m\u001b[0;34m\u001b[0m\u001b[0m\n\u001b[0m\u001b[1;32m      9\u001b[0m         \u001b[0mtargetDQN\u001b[0m \u001b[0;34m=\u001b[0m \u001b[0mdqn\u001b[0m\u001b[0;34m.\u001b[0m\u001b[0mDQN\u001b[0m\u001b[0;34m(\u001b[0m\u001b[0msess\u001b[0m\u001b[0;34m,\u001b[0m \u001b[0minput_size\u001b[0m\u001b[0;34m,\u001b[0m \u001b[0moutput_size\u001b[0m\u001b[0;34m,\u001b[0m \u001b[0mname\u001b[0m\u001b[0;34m=\u001b[0m\u001b[0;34m\"target\"\u001b[0m\u001b[0;34m)\u001b[0m\u001b[0;34m\u001b[0m\u001b[0m\n\u001b[1;32m     10\u001b[0m         \u001b[0mtf\u001b[0m\u001b[0;34m.\u001b[0m\u001b[0mglobal_variables_initializer\u001b[0m\u001b[0;34m(\u001b[0m\u001b[0;34m)\u001b[0m\u001b[0;34m.\u001b[0m\u001b[0mrun\u001b[0m\u001b[0;34m(\u001b[0m\u001b[0;34m)\u001b[0m\u001b[0;34m\u001b[0m\u001b[0m\n",
      "\u001b[0;31mNameError\u001b[0m: name 'dqn' is not defined"
     ]
    }
   ],
   "source": [
    "def main():\n",
    "    max_episodes = 5000\n",
    "    \n",
    "    # Store the previous observations in replay memory\n",
    "    replay_buffer = deque()\n",
    "    \n",
    "    with tf.Session() as sess:\n",
    "        mainDQN = dqn.DQN(sess, input_size, output_size, name=\"main\")\n",
    "        targetDQN = dqn.DQN(sess, input_size, output_size, name=\"target\")\n",
    "        tf.global_variables_initializer().run()\n",
    "        \n",
    "        # Initial copy q_net -> target_net\n",
    "        copy_ops = get_copy_var_ops(dest_scope_name=\"target\", src_scope_name=\"main\")\n",
    "        \n",
    "        sess.run(copy_ops) # targetDQN == mainDQN\n",
    "        \n",
    "        # mainDQN만 update / targetDQN은 update되지 않는다 (copy)\n",
    "        \n",
    "        \n",
    "        for episode in range(max_episodes):\n",
    "            e = 1.0 / ((episode / 10) + 1)\n",
    "            done = False\n",
    "            step_count = 0\n",
    "            \n",
    "            state = env.reset()\n",
    "            \n",
    "            while not done:\n",
    "                if np.random.rand(1) < e:\n",
    "                    action = env.action_space.sample()\n",
    "                else:\n",
    "                    # Choose an action by greedily from the Q-network\n",
    "                    action = np.argmax(mainDQN.predict(state))\n",
    "                    \n",
    "                # Get new state and reward from environment\n",
    "                next_state, reward, done, _ = env.step(action)\n",
    "                if done: # big penalty\n",
    "                    reward = -100\n",
    "                \n",
    "                # Save the experience to our buffer\n",
    "                replay_buffer.append((state, action, reward, next_state, done))\n",
    "                if len(replay_buffer) > REPLAY_MEMORY:\n",
    "                    replay_buffer.popleft()\n",
    "                \n",
    "                state = next_state\n",
    "                step_count += 1\n",
    "                if step_count > 10000: # Good enough\n",
    "                    break\n",
    "                    \n",
    "            print(\"Episode: {} steps: {}\".format(episode, step_count))\n",
    "            if step_count > 10000:\n",
    "                pass\n",
    "                # break\n",
    "            if episode % 10 == 1: # train every 10 episodes\n",
    "                # Get a random batch of experiences.\n",
    "                for _ in range(50):\n",
    "                    # Minibatch works better\n",
    "                    minibatch = random.sample(replay_buffer, 10)\n",
    "                    loss, _ = simple_replay_train(mainDQN, minibatch)\n",
    "                print(\"Loss: \", loss)\n",
    "                \n",
    "                # Copy q_net -> target_net\n",
    "                sess.run(copy_ops)\n",
    "        \n",
    "        # See our trained bot in action\n",
    "        env2 = wrapper.Monitor(env, 'gym-results', force=True)\n",
    "        \n",
    "        for i in range(200):\n",
    "            bot_play(mainDQN, env=env2)\n",
    "            \n",
    "        env2.close()\n",
    "        gym.upload(\"gym-results\", api_key=\"sk_VT2wPcSSOylnlPORltmQ\")\n",
    "\n",
    "if __name__ == \"__main__\":\n",
    "    main()"
   ]
  },
  {
   "cell_type": "code",
   "execution_count": null,
   "metadata": {},
   "outputs": [],
   "source": []
  },
  {
   "cell_type": "code",
   "execution_count": null,
   "metadata": {},
   "outputs": [],
   "source": []
  },
  {
   "cell_type": "markdown",
   "metadata": {},
   "source": [
    "# Recap\n",
    "\n",
    "1. network 2개 생성 (main & target)\n",
    "\n",
    "2. target = main_net (copy; 학습이 시작되기 전에 같게 만들어 줌)\n",
    "\n",
    "3. env 환경을 주고(생성), \n",
    "\n",
    "    - loop 실행 : action -> state, reward ...\n",
    "    \n",
    "    - buff D에 저장 \n",
    "    \n",
    "    - sampling and training \n",
    "    \n",
    "    - Y를 build할 때 target_network를 사용 \n",
    "    \n",
    "    - Y를 이용해서 main_network를 update\n",
    "    \n",
    "    - 10번에 한번씩 main과 target이 같도록 복사\n"
   ]
  },
  {
   "cell_type": "markdown",
   "metadata": {},
   "source": [
    "# Exercise I\n",
    "\n",
    "* Hyper parameter tuning\n",
    "    - Learning rate\n",
    "    - Sample size\n",
    "    - Decay factor\n",
    "    \n",
    "* Network structure (Fully Connected network을 사용했지만, RNN 이나 CNN도 사용 가능)\n",
    "    - add bias\n",
    "    - (activation function) test tanh, sigmoid, relu, etc.\n",
    "    - improve TF network to reduce sess.run() calls\n",
    "\n",
    "* Reward redesign\n",
    "    - 1, 1, 1, 1, 1, ... , -100\n",
    "    - 1, 0.9, 0.99, ... , 0 "
   ]
  },
  {
   "cell_type": "markdown",
   "metadata": {},
   "source": [
    "# Exercise II\n",
    "\n",
    "* Simple block based car race?\n",
    "    - https://github.com/golbin/TensorFlow-Tutorials/tree/master/07%20-%20DQN\n",
    "    - DQN 2013? -> 2015 version으로 강화\n",
    "    \n",
    "* Rewrite it using DQN 2015 algorithm?"
   ]
  },
  {
   "cell_type": "markdown",
   "metadata": {},
   "source": [
    "# Exercise III\n",
    "\n",
    "* DQN implementations\n",
    "    - https://github.com/songrotek/DQN-Atari-Tensorflow\n",
    "    - https://github.com/dennybritz/reinforcement-learning/blob/master/DQN/dqn.py\n",
    "    - https://github.com/devsisters/DQN-tensorflow\n",
    "    \n",
    "    \n",
    "* Other games\n",
    "    - https://www.ehrenbrav.com/2016/08/teaching-your-computer-to-play-super-mario-bros-a-fork-of-the-google-deepmind-atari-machine-learning-project/\n",
    "    \n",
    "    \n",
    "* RMA approach\n",
    "    - Run\n",
    "    - Modify\n",
    "    - Adapt (to your new game/problems)"
   ]
  },
  {
   "cell_type": "code",
   "execution_count": null,
   "metadata": {},
   "outputs": [],
   "source": []
  },
  {
   "cell_type": "code",
   "execution_count": null,
   "metadata": {},
   "outputs": [],
   "source": []
  }
 ],
 "metadata": {
  "kernelspec": {
   "display_name": "Python 3",
   "language": "python",
   "name": "python3"
  },
  "language_info": {
   "codemirror_mode": {
    "name": "ipython",
    "version": 3
   },
   "file_extension": ".py",
   "mimetype": "text/x-python",
   "name": "python",
   "nbconvert_exporter": "python",
   "pygments_lexer": "ipython3",
   "version": "3.6.4"
  }
 },
 "nbformat": 4,
 "nbformat_minor": 2
}
