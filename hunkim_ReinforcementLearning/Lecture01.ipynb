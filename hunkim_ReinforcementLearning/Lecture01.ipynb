{
 "cells": [
  {
   "cell_type": "markdown",
   "metadata": {},
   "source": [
    "# Lecture 1 : Introduction\n",
    "\n",
    "Reainforcement Learning이라는 것은 폭 넓은 곳에서 사용되고 있다.  \n",
    "Positive Reinforcement Learning\n",
    " - 강아지가 잘 하였을때 상을준다.\n",
    " \n",
    "Nature of Learning\n",
    "We learn from past experiences."
   ]
  },
  {
   "cell_type": "markdown",
   "metadata": {},
   "source": [
    "## Reinforcement Learning Component\n",
    "__Environment__\n",
    "- return state, reward\n",
    "\n",
    "__Actor__\n",
    "- observe -> get state\n",
    "- action\n",
    "\n"
   ]
  },
  {
   "cell_type": "markdown",
   "metadata": {},
   "source": [
    "__응용 분야__\n",
    "- Robotics: torque at joints  \n",
    "- Business operations  \n",
    "    Inventory management: how much to purchase of inventory, spare parts  \n",
    "    Resource allocation: e.g. in call center, who to service first  \n",
    "- Finance: Investment decisions, portfolio design  \n",
    "- E-commerce/media  \n",
    "    What content to present to users (using click-through / visit time as reward)  \n",
    "    What ads to present to users (avoiding ad fatigue)\n"
   ]
  },
  {
   "cell_type": "markdown",
   "metadata": {},
   "source": [
    "__Schedule__\n",
    "\n",
    "1. Introduction\n",
    "2. Playing Games, OpenAI Gym Introduction & Lab\n",
    "3. Q-learning with Tables & Lab\n",
    "4. Q Learning on nondeterministic Rewards and Actions & Lab\n",
    "5. Q-learning with Networks (DQN) & Lab\n",
    "6. Policy Gradients & Lab\n",
    "7. Further Topics"
   ]
  }
 ],
 "metadata": {
  "kernelspec": {
   "display_name": "Python 3",
   "language": "python",
   "name": "python3"
  },
  "language_info": {
   "codemirror_mode": {
    "name": "ipython",
    "version": 3
   },
   "file_extension": ".py",
   "mimetype": "text/x-python",
   "name": "python",
   "nbconvert_exporter": "python",
   "pygments_lexer": "ipython3",
   "version": "3.6.4"
  }
 },
 "nbformat": 4,
 "nbformat_minor": 2
}
